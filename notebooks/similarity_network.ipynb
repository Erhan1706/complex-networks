{
 "cells": [
  {
   "cell_type": "markdown",
   "metadata": {},
   "source": [
    "# Weighted Similarity Network\n",
    "\n",
    "## Goal\n",
    "Build a **weighted user similarity network** from viewing behavior and analyze its properties.\n",
    "\n",
    "## Network Definition\n",
    "- **Nodes:** Users (N = 1,411)\n",
    "- **Edges:** All user pairs connected with similarity as edge weight\n",
    "- **Edge weights:** Cosine similarity of watch_ratio vectors (0 to 1)\n",
    "- **Network type:** Undirected, weighted, fully connected\n",
    "\n",
    "---"
   ]
  },
  {
   "cell_type": "markdown",
   "metadata": {},
   "source": [
    "## Setup"
   ]
  },
  {
   "cell_type": "code",
   "execution_count": 1,
   "metadata": {},
   "outputs": [],
   "source": [
    "import pandas as pd\n",
    "import numpy as np\n",
    "import matplotlib.pyplot as plt\n",
    "import seaborn as sns\n",
    "import networkx as nx\n",
    "from sklearn.metrics.pairwise import cosine_similarity\n",
    "\n",
    "# Plotting\n",
    "plt.style.use('seaborn-v0_8-darkgrid')\n",
    "sns.set_palette('husl')\n",
    "%matplotlib inline"
   ]
  },
  {
   "cell_type": "markdown",
   "metadata": {},
   "source": [
    "## 1. Load Data and Create User-Video Matrix\n",
    "\n",
    "We need a matrix where:\n",
    "- Rows = users\n",
    "- Columns = videos\n",
    "- Values = watch_ratio (how much of each video the user watched)\n",
    "\n",
    "This matrix captures each user's \"viewing profile\" across all videos."
   ]
  },
  {
   "cell_type": "code",
   "execution_count": 2,
   "metadata": {},
   "outputs": [
    {
     "name": "stdout",
     "output_type": "stream",
     "text": [
      "Loading interaction data...\n",
      "Total interactions: 4,676,570\n",
      "Unique users: 1,411\n",
      "Unique videos: 3,327\n",
      "\n",
      "Creating user-video matrix...\n",
      "Matrix shape: 1,411 users \u00d7 3,327 videos\n",
      "\n",
      "Sample of user-video matrix:\n",
      "video_id       103       109       120       122       128\n",
      "user_id                                                   \n",
      "14        0.429126  1.482039  0.728738  0.477810  0.439333\n",
      "19        0.624466  1.070684  1.006064  0.759092  0.882691\n",
      "21        1.415049  1.028840  1.809125  0.688823  0.588365\n",
      "23        0.169223  2.549891  0.247487  0.438669  0.114338\n",
      "24        0.345049  0.449337  0.802936  0.797411  1.875599\n"
     ]
    }
   ],
   "source": [
    "# Load interaction data\n",
    "print(\"Loading interaction data...\")\n",
    "interactions = pd.read_csv(r'..\\data\\raw\\small_matrix.csv')\n",
    "\n",
    "print(f\"Total interactions: {len(interactions):,}\")\n",
    "print(f\"Unique users: {interactions['user_id'].nunique():,}\")\n",
    "print(f\"Unique videos: {interactions['video_id'].nunique():,}\")\n",
    "\n",
    "# Create user-video matrix\n",
    "print(\"\\nCreating user-video matrix...\")\n",
    "user_video_matrix = interactions.pivot_table(\n",
    "    index='user_id',\n",
    "    columns='video_id',\n",
    "    values='watch_ratio',\n",
    "    fill_value=0  # If user didn't watch, assume 0 (rare with 99.7% coverage)\n",
    ")\n",
    "\n",
    "print(f\"Matrix shape: {user_video_matrix.shape[0]:,} users \u00d7 {user_video_matrix.shape[1]:,} videos\")\n",
    "print(f\"\\nSample of user-video matrix:\")\n",
    "print(user_video_matrix.iloc[:5, :5])"
   ]
  },
  {
   "cell_type": "markdown",
   "metadata": {},
   "source": [
    "## 2. Compute User Similarity\n",
    "\n",
    "**Cosine similarity** measures how similar two users' viewing patterns are:\n",
    "- 1.0 = identical viewing behavior\n",
    "- 0.0 = completely different\n",
    "\n",
    "Formula: $\\text{similarity}(u_i, u_j) = \\frac{\\vec{v}_i \\cdot \\vec{v}_j}{||\\vec{v}_i|| \\, ||\\vec{v}_j||}$\n",
    "\n",
    "where $\\vec{v}_i$ is user i's watch_ratio vector across all videos."
   ]
  },
  {
   "cell_type": "code",
   "execution_count": 3,
   "metadata": {},
   "outputs": [
    {
     "name": "stdout",
     "output_type": "stream",
     "text": [
      "Computing pairwise user similarity...\n",
      "(This may take a minute for 1,411 users)\n",
      "\n",
      "Similarity matrix shape: (1411, 1411)\n",
      "  (1,411 users \u00d7 1,411 users)\n",
      "\n",
      "Similarity statistics (all 1,989,510 user pairs):\n",
      "  Mean:   0.5710\n",
      "  Median: 0.5750\n",
      "  Std:    0.2036\n",
      "  Min:    0.0228\n",
      "  Max:    0.9935\n"
     ]
    },
    {
     "data": {
      "image/png": "[encoded data removed]",
      "text/plain": [
       "<Figure size 1000x500 with 1 Axes>"
      ]
     },
     "metadata": {},
     "output_type": "display_data"
    }
   ],
   "source": [
    "# Compute pairwise cosine similarity between all users\n",
    "print(\"Computing pairwise user similarity...\")\n",
    "print(\"(This may take a minute for 1,411 users)\\n\")\n",
    "\n",
    "similarity_matrix = cosine_similarity(user_video_matrix.values)\n",
    "\n",
    "print(f\"Similarity matrix shape: {similarity_matrix.shape}\")\n",
    "print(f\"  ({similarity_matrix.shape[0]:,} users \u00d7 {similarity_matrix.shape[1]:,} users)\")\n",
    "\n",
    "# Convert to DataFrame for easier handling\n",
    "similarity_df = pd.DataFrame(\n",
    "    similarity_matrix,\n",
    "    index=user_video_matrix.index,\n",
    "    columns=user_video_matrix.index\n",
    ")\n",
    "\n",
    "# Set diagonal to NaN (user's similarity with themselves = 1.0, not interesting)\n",
    "np.fill_diagonal(similarity_matrix, np.nan)\n",
    "\n",
    "# Analyze similarity distribution\n",
    "similarities = similarity_matrix[~np.isnan(similarity_matrix)]\n",
    "\n",
    "print(f\"\\nSimilarity statistics (all {len(similarities):,} user pairs):\")\n",
    "print(f\"  Mean:   {np.mean(similarities):.4f}\")\n",
    "print(f\"  Median: {np.median(similarities):.4f}\")\n",
    "print(f\"  Std:    {np.std(similarities):.4f}\")\n",
    "print(f\"  Min:    {np.min(similarities):.4f}\")\n",
    "print(f\"  Max:    {np.max(similarities):.4f}\")\n",
    "\n",
    "# Plot distribution\n",
    "plt.figure(figsize=(10, 5))\n",
    "plt.hist(similarities, bins=50, edgecolor='black', alpha=0.7)\n",
    "plt.xlabel('Cosine Similarity')\n",
    "plt.ylabel('Frequency')\n",
    "plt.title('Distribution of User Similarity')\n",
    "plt.axvline(np.mean(similarities), color='red', linestyle='--', linewidth=2, label=f'Mean = {np.mean(similarities):.3f}')\n",
    "plt.legend()\n",
    "plt.grid(alpha=0.3)\n",
    "plt.show()"
   ]
  },
  {
   "cell_type": "markdown",
   "metadata": {},
   "source": [
    "## 3. Build Weighted Similarity Network\n",
    "\n",
    "Create fully connected graph with all edges weighted by cosine similarity."
   ]
  },
  {
   "cell_type": "code",
   "execution_count": 4,
   "metadata": {},
   "outputs": [
    {
     "name": "stdout",
     "output_type": "stream",
     "text": [
      "Building weighted similarity network...\n",
      "======================================================================\n",
      "Added 1,411 nodes\n",
      "Added 994,755 edges\n",
      "\n",
      "Network Properties:\n",
      "  Nodes (N):        1,411\n",
      "  Edges (E):        994,755\n",
      "  Density:          1.0000 (100.00%)\n",
      "  Max possible edges: 994,755\n",
      "  Is connected:     True\n"
     ]
    }
   ],
   "source": [
    "print(\"Building weighted similarity network...\")\n",
    "print(\"=\"*70)\n",
    "\n",
    "# Create graph\n",
    "G = nx.Graph()\n",
    "\n",
    "# Add all users as nodes\n",
    "users = user_video_matrix.index.tolist()\n",
    "G.add_nodes_from(users)\n",
    "print(f\"Added {G.number_of_nodes():,} nodes\")\n",
    "\n",
    "# Add all edges with similarity as weight\n",
    "edges_added = 0\n",
    "for i, user_i in enumerate(users):\n",
    "    for j, user_j in enumerate(users[i+1:], start=i+1):  # Only upper triangle (undirected)\n",
    "        sim = similarity_df.loc[user_i, user_j]\n",
    "        G.add_edge(user_i, user_j, weight=sim)\n",
    "        edges_added += 1\n",
    "\n",
    "print(f\"Added {edges_added:,} edges\")\n",
    "\n",
    "# Network statistics\n",
    "N = G.number_of_nodes()\n",
    "E = G.number_of_edges()\n",
    "max_edges = N * (N - 1) / 2\n",
    "density = nx.density(G)\n",
    "\n",
    "print(f\"\\nNetwork Properties:\")\n",
    "print(f\"  Nodes (N):        {N:,}\")\n",
    "print(f\"  Edges (E):        {E:,}\")\n",
    "print(f\"  Density:          {density:.4f} ({100*density:.2f}%)\")\n",
    "print(f\"  Max possible edges: {int(max_edges):,}\")\n",
    "print(f\"  Is connected:     {nx.is_connected(G)}\")\n",
    "\n",
    "if not nx.is_connected(G):\n",
    "    components = list(nx.connected_components(G))\n",
    "    largest_cc = max(components, key=len)\n",
    "    print(f\"  Components:       {len(components)}\")\n",
    "    print(f\"  Largest component: {len(largest_cc)} nodes ({100*len(largest_cc)/N:.1f}%)\")\n",
    "    print(f\"\\n  \u2192 Working with largest connected component for path-based metrics\")\n",
    "    G_main = G.subgraph(largest_cc).copy()\n",
    "else:\n",
    "    G_main = G"
   ]
  },
  {
   "cell_type": "code",
   "execution_count": null,
   "metadata": {},
   "outputs": [],
   "source": [
    "# Compute strengths (weighted degree)\n",
    "strength = dict(G.degree(weight='weight'))\n",
    "strength_values = list(strength.values())\n",
    "\n",
    "print(\"Strength Statistics:\")\n",
    "print(\"=\"*70)\n",
    "print(f\"  Mean strength \u27e8s\u27e9:  {np.mean(strength_values):.2f}\")\n",
    "print(f\"  Median strength:    {np.median(strength_values):.2f}\")\n",
    "print(f\"  Max strength:       {np.max(strength_values):.2f}\")\n",
    "print(f\"  Min strength:       {np.min(strength_values):.2f}\")\n",
    "print(f\"  Std deviation:      {np.std(strength_values):.2f}\")\n",
    "\n",
    "# Strength distribution plot\n",
    "plt.figure(figsize=(10, 5))\n",
    "plt.hist(strength_values, bins=50, edgecolor='black', alpha=0.7)\n",
    "plt.xlabel('Strength s')\n",
    "plt.ylabel('Frequency')\n",
    "plt.title('Strength Distribution')\n",
    "plt.axvline(np.mean(strength_values), color='red', linestyle='--', \n",
    "            linewidth=2, label=f'Mean \u27e8s\u27e9 = {np.mean(strength_values):.1f}')\n",
    "plt.legend()\n",
    "plt.grid(alpha=0.3)\n",
    "plt.show()"
   ]
  },
  {
   "cell_type": "markdown",
   "metadata": {},
   "source": [
    "## 5. Summary"
   ]
  },
  {
   "cell_type": "code",
   "execution_count": null,
   "metadata": {},
   "outputs": [],
   "source": [
    "print(\"=\"*70)\n",
    "print(\"WEIGHTED SIMILARITY NETWORK SUMMARY\")\n",
    "print(\"=\"*70)\n",
    "\n",
    "print(f\"\nNetwork Properties:\")\n",
    "print(f\"  Nodes (N):          {G.number_of_nodes():,}\")\n",
    "print(f\"  Edges (E):          {G.number_of_edges():,}\")\n",
    "print(f\"  Density:            {nx.density(G):.4f} (fully connected)\")\n",
    "print(f\"  Mean edge weight:   {np.mean([d['weight'] for u, v, d in G.edges(data=True)]):.4f}\")\n",
    "\n",
    "print(f\"\nNode Properties:\")\n",
    "print(f\"  All degrees:        {degree_values[0]} (N-1)\")\n",
    "print(f\"  Mean strength:      {np.mean(strength_values):.2f}\")\n",
    "print(f\"  Std strength:       {np.std(strength_values):.2f}\")\n",
    "\n",
    "print(f\"\nKey Insight:\")\n",
    "print(f\"  \u2022 Fully connected weighted network\")\n",
    "print(f\"  \u2022 Degree is uniform \u2192 use strength for influence\")\n",
    "print(f\"  \u2022 Edge weights = similarity (0-1)\")\n",
    "print(f\"  \u2022 For SI spreading: transmission = \u03b2 \u00d7 similarity\")\n",
    "\n",
    "print(\"\n\" + \"=\"*70)\n",
    "print(\"Ready for SI spreading analysis!\")\n",
    "print(\"=\"*70)"
   ]
  }
 ],
 "metadata": {
  "kernelspec": {
   "display_name": "mod_venv",
   "language": "python",
   "name": "python3"
  },
  "language_info": {
   "codemirror_mode": {
    "name": "ipython",
    "version": 3
   },
   "file_extension": ".py",
   "mimetype": "text/x-python",
   "name": "python",
   "nbconvert_exporter": "python",
   "pygments_lexer": "ipython3",
   "version": "3.10.0"
  }
 },
 "nbformat": 4,
 "nbformat_minor": 4
}